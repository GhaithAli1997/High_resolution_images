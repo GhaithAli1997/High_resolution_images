{
  "nbformat": 4,
  "nbformat_minor": 0,
  "metadata": {
    "colab": {
      "provenance": []
    },
    "kernelspec": {
      "name": "python3",
      "display_name": "Python 3"
    },
    "language_info": {
      "name": "python"
    }
  },
  "cells": [
    {
      "cell_type": "code",
      "execution_count": null,
      "metadata": {
        "id": "ntWhlYfoETSc"
      },
      "outputs": [],
      "source": [
        "!pip install ultralytics\n",
        "!pip install supervision"
      ]
    },
    {
      "cell_type": "code",
      "source": [
        "from ultralytics import YOLO\n",
        "import supervision as sv\n",
        "import cv2\n",
        "import matplotlib.pyplot as plt\n",
        "from PIL import Image\n",
        "from IPython.display import Image, display\n",
        "model_face = YOLO('/content/drive/MyDrive/spherical_images/face.pt')\n",
        "model_car = YOLO('/content/drive/MyDrive/spherical_images/best_plate.pt')\n",
        "model = YOLO('yolov8x.pt')\n",
        "#imag=cv2.imread('C:/Users/ghait/Desktop/fiver/spherical/data/train/images/Track_B-Sphere-13.jpg')\n",
        "imag=cv2.imread('/content/Track_B-Sphere-10.jpg')\n",
        "results1 = model(imag, agnostic_nms=False)[0]\n",
        "detections = sv.Detections.from_ultralytics(results1)\n",
        "color = (0, 255, 0)\n",
        "thickness = 2\n",
        "classlist=[4,7,2,0]\n",
        "for i in detections:\n",
        "    if i[3] in classlist :\n",
        "        frame=imag[int(i[0][1]):int(i[0][3]),int(i[0][0]):int(i[0][2])]\n",
        "        results = model_face(frame, agnostic_nms=False)[0] if i[3] == 0 else model_car(frame, agnostic_nms=False)[0]\n",
        "        det = sv.Detections.from_ultralytics(results)\n",
        "        [cv2.rectangle(imag, (int(j[0][0]) + int(i[0][0]), int(j[0][1]) + int(i[0][1])), (int(j[0][2]) + int(i[0][0]), int(j[0][3]) + int(i[0][1])), color, thickness) for j in det]\n",
        "\n",
        "cv2.imwrite('output1.jpg',imag)\n"
      ],
      "metadata": {
        "id": "OdJg04FVHJ7A"
      },
      "execution_count": null,
      "outputs": []
    }
  ]
}